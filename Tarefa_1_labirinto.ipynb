{
  "nbformat": 4,
  "nbformat_minor": 0,
  "metadata": {
    "colab": {
      "provenance": [],
      "authorship_tag": "ABX9TyPnWrvV3W22IfsTYiGnbns6",
      "include_colab_link": true
    },
    "kernelspec": {
      "name": "python3",
      "display_name": "Python 3"
    },
    "language_info": {
      "name": "python"
    }
  },
  "cells": [
    {
      "cell_type": "markdown",
      "metadata": {
        "id": "view-in-github",
        "colab_type": "text"
      },
      "source": [
        "<a href=\"https://colab.research.google.com/github/rafaxy/tarefas_AI/blob/main/Tarefa_1_labirinto.ipynb\" target=\"_parent\"><img src=\"https://colab.research.google.com/assets/colab-badge.svg\" alt=\"Open In Colab\"/></a>"
      ]
    },
    {
      "cell_type": "code",
      "execution_count": null,
      "metadata": {
        "id": "tXXgzhODVHRf"
      },
      "outputs": [],
      "source": [
        "#importações\n",
        "import cv2\n",
        "import numpy as np\n",
        "from google.colab.patches import cv2_imshow\n",
        "import matplotlib.pyplot as plt\n",
        "import pandas as pd"
      ]
    },
    {
      "cell_type": "code",
      "source": [
        "#lendo a imagem do labirinto\n",
        "img = cv2.imread('maze2.png',0)"
      ],
      "metadata": {
        "id": "9LGfvundVNKF"
      },
      "execution_count": null,
      "outputs": []
    },
    {
      "cell_type": "code",
      "source": [
        "img.shape"
      ],
      "metadata": {
        "colab": {
          "base_uri": "https://localhost:8080/"
        },
        "id": "zgT9O1YpWXcB",
        "outputId": "a4feb3f4-7459-4f51-f4d9-8ae22d662e16"
      },
      "execution_count": null,
      "outputs": [
        {
          "output_type": "execute_result",
          "data": {
            "text/plain": [
              "(186, 261)"
            ]
          },
          "metadata": {},
          "execution_count": 192
        }
      ]
    },
    {
      "cell_type": "code",
      "source": [
        "scale_percent = 60 # percentual do tamanho original\n",
        "width = int(img.shape[1] * scale_percent / 100)\n",
        "height = int(img.shape[0] * scale_percent / 100)\n",
        "dim = (width, height)"
      ],
      "metadata": {
        "id": "SAhuv-h7Wi24"
      },
      "execution_count": null,
      "outputs": []
    },
    {
      "cell_type": "code",
      "source": [
        "# imagem redimensionada\n",
        "resized = cv2.resize(img, dim, interpolation = cv2.INTER_AREA)"
      ],
      "metadata": {
        "id": "JWCmtfQ0WnOy"
      },
      "execution_count": null,
      "outputs": []
    },
    {
      "cell_type": "code",
      "source": [
        "ret, binary_img = cv2.threshold(resized, 160, 255, cv2.THRESH_BINARY)\n",
        "#aumentei o threshold de 127 para 160, senão ele abre caminho onde não tem"
      ],
      "metadata": {
        "id": "aSMvxORbWuxQ"
      },
      "execution_count": null,
      "outputs": []
    },
    {
      "cell_type": "code",
      "source": [
        "plt.imshow(binary_img,'gray',vmin=0,vmax=255)"
      ],
      "metadata": {
        "colab": {
          "base_uri": "https://localhost:8080/",
          "height": 434
        },
        "id": "oBJFOzf-WyhQ",
        "outputId": "66b9a2e7-2619-4046-b02a-68266f7fd212"
      },
      "execution_count": null,
      "outputs": [
        {
          "output_type": "execute_result",
          "data": {
            "text/plain": [
              "<matplotlib.image.AxesImage at 0x7fc846b215a0>"
            ]
          },
          "metadata": {},
          "execution_count": 196
        },
        {
          "output_type": "display_data",
          "data": {
            "text/plain": [
              "<Figure size 640x480 with 1 Axes>"
            ],
            "image/png": "[encoded data removed]"
          },
          "metadata": {}
        }
      ]
    },
    {
      "cell_type": "code",
      "source": [
        "rows, cols = binary_img.shape\n",
        "print(rows,cols)"
      ],
      "metadata": {
        "colab": {
          "base_uri": "https://localhost:8080/"
        },
        "id": "9n4-RoBuXQ1X",
        "outputId": "5f8cdc6e-bb69-4474-f0fc-579bfb074255"
      },
      "execution_count": null,
      "outputs": [
        {
          "output_type": "stream",
          "name": "stdout",
          "text": [
            "111 156\n"
          ]
        }
      ]
    },
    {
      "cell_type": "code",
      "source": [
        "def walls(binary_img,rows=rows,cols=cols, row_check = False): \n",
        "  # this routine return cols or rows position of walls in a list: \n",
        "  #    if you add row_check = True it return rows and otherwise cols\n",
        "  list_max, list_min = [], []\n",
        "  for i in range(rows):\n",
        "    for j in range(cols):\n",
        "      m =binary_img[i,j]\n",
        "      if m == 0:\n",
        "        if row_check == False:\n",
        "          if j > cols/2:\n",
        "            list_max.append(j)\n",
        "          else:\n",
        "            list_min.append(j)\n",
        "        else:\n",
        "          if i > rows/2:\n",
        "            list_max.append(i)\n",
        "          else:\n",
        "            list_min.append(i)\n",
        "  return list_max, list_min\n",
        "     "
      ],
      "metadata": {
        "id": "g7lNSQ8jXTrn"
      },
      "execution_count": null,
      "outputs": []
    },
    {
      "cell_type": "code",
      "source": [
        "def freq(list_):\n",
        "  # this routine return the frequency a item appears in a list as a dict\n",
        "  frequency = {}\n",
        "  for item in list_:\n",
        "    if item in frequency:\n",
        "        frequency[item] += 1\n",
        "    else:\n",
        "        frequency[item] = 1\n",
        "  return frequency"
      ],
      "metadata": {
        "id": "EMtmwSoNXc2m"
      },
      "execution_count": null,
      "outputs": []
    },
    {
      "cell_type": "code",
      "source": [
        "# key_max is the most frequent wall position using col_max, row_max, row_min and col_min\n",
        "# key_max for col_max it represent right\n",
        "# key_max for col_min represents left\n",
        "# key_max for row_max represent bottom\n",
        "# key_max for row_min represent top\n",
        "\n",
        "col_max, col_min = walls(binary_img)\n",
        "row_max, row_min = walls(binary_img,row_check=True)\n",
        "freq_row1, freq_row2 = freq(row_min), freq(row_max)\n",
        "freq_col1, freq_col2 = freq(col_min), freq(col_max)\n",
        "list_all = [freq_col1,freq_col2,freq_row1,freq_row2]\n",
        "labels = ['col min','col max','row min','row max']\n",
        "k = 0\n",
        "pos_ =[]\n",
        "for list_ in list_all:\n",
        "  key_max = max(list_, key=list_.get)\n",
        "  print(key_max, list_[key_max], labels[k]) \n",
        "  pos_.append(key_max)\n",
        "  k += 1"
      ],
      "metadata": {
        "colab": {
          "base_uri": "https://localhost:8080/"
        },
        "id": "q91kMOlvXnkN",
        "outputId": "1c04cad3-a12e-496f-a0d1-76e2c65fb16a"
      },
      "execution_count": null,
      "outputs": [
        {
          "output_type": "stream",
          "name": "stdout",
          "text": [
            "4 94 col min\n",
            "149 93 col max\n",
            "6 147 row min\n",
            "106 147 row max\n"
          ]
        }
      ]
    },
    {
      "cell_type": "code",
      "source": [
        "id_min = [pos_[2], pos_[0]]\n",
        "id_max = [pos_[3],pos_[1]]\n",
        "id_min,id_max"
      ],
      "metadata": {
        "colab": {
          "base_uri": "https://localhost:8080/"
        },
        "id": "9LZk9bNoXxEF",
        "outputId": "78f64f65-835a-4b52-b882-14023610b442"
      },
      "execution_count": null,
      "outputs": [
        {
          "output_type": "execute_result",
          "data": {
            "text/plain": [
              "([6, 4], [106, 149])"
            ]
          },
          "metadata": {},
          "execution_count": 201
        }
      ]
    },
    {
      "cell_type": "code",
      "source": [
        "nref = 7\n",
        "def find(img, id_min,id_max,rows=rows, cols=cols,N =nref):\n",
        "  \n",
        "  positions =[]\n",
        "  score = []\n",
        "\n",
        "  for j in [id_min[1], id_max[1]]:\n",
        "    max_sum = 0\n",
        "    for i in range(rows-N):\n",
        "      total = 0\n",
        "      if i > id_min[0] and i < id_max[0]:\n",
        "        for k in range(N):\n",
        "          total += img[i+k,j]\n",
        "          if max_sum < total:\n",
        "            idx, idy = i, j\n",
        "            max_sum = total\n",
        "    if max_sum > 0:\n",
        "      positions.append([idx,idy])\n",
        "      score.append(max_sum)\n",
        "\n",
        "  for i in [id_min[0],id_max[0]]:\n",
        "    max_sum = 0\n",
        "    for j in range(cols-N):\n",
        "      total = 0\n",
        "      if j > id_min[1] and j < id_max[1]:\n",
        "        for k in range(N):\n",
        "          total += img[i,j+k]\n",
        "          if max_sum < total:\n",
        "            idx, idy = i, j\n",
        "            max_sum = total\n",
        "    if max_sum > 0:\n",
        "      positions.append([idx,idy])\n",
        "      score.append(max_sum)\n",
        "  k = 0\n",
        "  x =np.array(score)\n",
        "  ind = np.argsort(x)\n",
        "  pos  = [positions[ind[-1]],positions[ind[-2]]]\n",
        "  sco  = [score[ind[-1]],score[ind[-2]]]\n",
        "\n",
        "  return pos, sco"
      ],
      "metadata": {
        "id": "vIrznI6TX3W0"
      },
      "execution_count": null,
      "outputs": []
    },
    {
      "cell_type": "code",
      "source": [
        "find(binary_img,id_min,id_max)"
      ],
      "metadata": {
        "colab": {
          "base_uri": "https://localhost:8080/"
        },
        "id": "UujRmh8yYd-7",
        "outputId": "41ae2a57-6948-461c-9f90-fa2000f88c11"
      },
      "execution_count": null,
      "outputs": [
        {
          "output_type": "execute_result",
          "data": {
            "text/plain": [
              "([[98, 149], [8, 4]], [1785, 1785])"
            ]
          },
          "metadata": {},
          "execution_count": 203
        }
      ]
    },
    {
      "cell_type": "code",
      "source": [
        "positions,score =find(binary_img,id_min,id_max)\n",
        "yc,xc = positions[0]\n",
        "image = cv2.circle(binary_img, (xc,yc), radius=3, color=[0,0,255], thickness=1)\n",
        "yc,xc = positions[1]\n",
        "image = cv2.circle(image, (xc,yc), radius=3, color=[0,0,255], thickness=1)\n",
        "plt.imshow(image,'gray',vmin=0,vmax=255)"
      ],
      "metadata": {
        "colab": {
          "base_uri": "https://localhost:8080/",
          "height": 434
        },
        "id": "rHGWKQg8Yg8l",
        "outputId": "116e82a7-0bb9-4c9a-93a0-b74c4211dfb0"
      },
      "execution_count": null,
      "outputs": [
        {
          "output_type": "execute_result",
          "data": {
            "text/plain": [
              "<matplotlib.image.AxesImage at 0x7fc846b981c0>"
            ]
          },
          "metadata": {},
          "execution_count": 204
        },
        {
          "output_type": "display_data",
          "data": {
            "text/plain": [
              "<Figure size 640x480 with 1 Axes>"
            ],
            "image/png": "[encoded data removed]"
          },
          "metadata": {}
        }
      ]
    },
    {
      "cell_type": "code",
      "source": [
        "find(binary_img,id_min,id_max)"
      ],
      "metadata": {
        "colab": {
          "base_uri": "https://localhost:8080/"
        },
        "id": "N4vmopNzY9Ry",
        "outputId": "5747173a-852e-422c-f168-e6e47b13d9e0"
      },
      "execution_count": null,
      "outputs": [
        {
          "output_type": "execute_result",
          "data": {
            "text/plain": [
              "([[98, 149], [8, 4]], [1530, 1530])"
            ]
          },
          "metadata": {},
          "execution_count": 205
        }
      ]
    },
    {
      "cell_type": "code",
      "source": [
        "target, score = find(binary_img,id_min,id_max)\n",
        "start_ = target[1]\n",
        "end_ = target[0]\n",
        "start_, end_"
      ],
      "metadata": {
        "colab": {
          "base_uri": "https://localhost:8080/"
        },
        "id": "FppWd78DZHAC",
        "outputId": "7b385d7a-4ada-4fb9-f508-9d47011dde73"
      },
      "execution_count": null,
      "outputs": [
        {
          "output_type": "execute_result",
          "data": {
            "text/plain": [
              "([8, 4], [98, 149])"
            ]
          },
          "metadata": {},
          "execution_count": 206
        }
      ]
    },
    {
      "cell_type": "code",
      "source": [
        "grid = []\n",
        "# number one for wall and zero for empty\n",
        "for x in binary_img:\n",
        "  grid.append(list(x))\n",
        "\n",
        "for i in range(rows):\n",
        "  for j in range(cols):\n",
        "    if grid[i][j]== 0:\n",
        "      grid[i][j]=1 # 1 if it is wall\n",
        "\n",
        "for i in range(rows):\n",
        "  for j in range(cols):\n",
        "    if grid[i][j]== 255:\n",
        "      grid[i][j]=0 # 0  if it is empty\n",
        "\n",
        "\n",
        "for i in range(rows):\n",
        "  for j in range(cols):\n",
        "    if i < id_min[0] or i > id_max[0]:\n",
        "      grid[i][j] = 1\n",
        "\n",
        "for i in range(rows):\n",
        "  for j in range(cols):\n",
        "    if j < id_min[1] or j > id_max[1]:\n",
        "      grid[i][j] = 1\n",
        "\n",
        "start = start_[0],start_[1]\n",
        "end = end_[0], end_[1]"
      ],
      "metadata": {
        "id": "uPHUUNJUZKZY"
      },
      "execution_count": null,
      "outputs": []
    },
    {
      "cell_type": "code",
      "source": [
        "a = grid"
      ],
      "metadata": {
        "id": "GiEdboafZX4o"
      },
      "execution_count": null,
      "outputs": []
    },
    {
      "cell_type": "code",
      "source": [
        "from queue import Queue\n",
        "\n",
        "def isValid(maze, visited, row, col):\n",
        "    rows, cols = len(maze), len(maze[0])\n",
        "    return (row >= 0) and (row < rows) and (col >= 0) and (col < cols) and maze[row][col] == 0 and not visited[row][col]\n",
        "\n",
        "def BFS(maze, start, end):\n",
        "    rows, cols = len(maze), len(maze[0])\n",
        "\n",
        "    # Possible 4 directions\n",
        "    row_num = [-1, 0, 0, 1]\n",
        "    col_num = [0, -1, 1, 0]\n",
        "\n",
        "    visited = [[False for _ in range(cols)] for _ in range(rows)]\n",
        "\n",
        "    # Queue for BFS, each node: (x, y, dist, path)\n",
        "    q = Queue()\n",
        "    q.put((start[0], start[1], 0, []))\n",
        "\n",
        "    while not q.empty():\n",
        "        row, col, dist, path = q.get()\n",
        "        path = path + [(row, col)]\n",
        "\n",
        "        # If this cell is the destination\n",
        "        if (row, col) == (end[0], end[1]):\n",
        "            return path, dist\n",
        "\n",
        "        # For each valid adjacent cell\n",
        "        for i in range(4):\n",
        "            adj_row, adj_col = row + row_num[i], col + col_num[i]\n",
        "\n",
        "            if isValid(maze, visited, adj_row, adj_col):\n",
        "                visited[adj_row][adj_col] = True\n",
        "                q.put((adj_row, adj_col, dist + 1, path))\n",
        "\n",
        "    return None, float('inf') # Return None and infinity if no path exists\n",
        "\n",
        "# Example usage:\n",
        "maze = grid\n",
        "\n",
        "start = (8,8)\n",
        "end = (100,144)\n",
        "path, dist = BFS(maze, start, end)\n",
        "if path is not None:\n",
        "    print(f\"Path found with distance {dist}: {path}\")\n",
        "else:\n",
        "    print(\"No path found.\")\n"
      ],
      "metadata": {
        "colab": {
          "base_uri": "https://localhost:8080/"
        },
        "id": "exyhHk4ri8pM",
        "outputId": "128d0ab5-9986-4c72-92c9-dfcb67ae4bcc"
      },
      "execution_count": null,
      "outputs": [
        {
          "output_type": "stream",
          "name": "stdout",
          "text": [
            "Path found with distance 294: [(8, 8), (8, 9), (8, 10), (8, 11), (8, 12), (8, 13), (8, 14), (8, 15), (8, 16), (8, 17), (8, 18), (8, 19), (8, 20), (8, 21), (8, 22), (8, 23), (8, 24), (8, 25), (8, 26), (8, 27), (8, 28), (8, 29), (8, 30), (9, 30), (10, 30), (11, 30), (12, 30), (13, 30), (14, 30), (15, 30), (16, 30), (17, 30), (18, 30), (19, 30), (20, 30), (21, 30), (22, 30), (23, 30), (24, 30), (25, 30), (26, 30), (26, 31), (26, 32), (26, 33), (26, 34), (26, 35), (26, 36), (26, 37), (26, 38), (26, 39), (26, 40), (26, 41), (26, 42), (26, 43), (26, 44), (26, 45), (26, 46), (26, 47), (26, 48), (26, 49), (26, 50), (26, 51), (26, 52), (26, 53), (26, 54), (26, 55), (26, 56), (26, 57), (26, 58), (26, 59), (26, 60), (25, 60), (24, 60), (23, 60), (22, 60), (21, 60), (20, 60), (19, 60), (18, 60), (17, 60), (16, 60), (15, 60), (14, 60), (14, 61), (14, 62), (14, 63), (14, 64), (14, 65), (14, 66), (14, 67), (14, 68), (14, 69), (14, 70), (14, 71), (14, 72), (14, 73), (14, 74), (14, 75), (14, 76), (14, 77), (14, 78), (14, 79), (14, 80), (14, 81), (14, 82), (14, 83), (14, 84), (14, 85), (14, 86), (14, 87), (14, 88), (14, 89), (14, 90), (14, 91), (14, 92), (14, 93), (15, 93), (16, 93), (17, 93), (18, 93), (19, 93), (20, 93), (21, 93), (22, 93), (23, 93), (24, 93), (25, 93), (25, 94), (26, 94), (26, 95), (26, 96), (26, 97), (26, 98), (26, 99), (26, 100), (26, 101), (26, 102), (26, 103), (26, 104), (26, 105), (26, 106), (26, 107), (26, 108), (26, 109), (26, 110), (26, 111), (26, 112), (27, 112), (28, 112), (29, 112), (30, 112), (31, 112), (32, 112), (33, 112), (34, 112), (35, 112), (36, 112), (37, 112), (38, 112), (39, 112), (40, 112), (41, 112), (42, 112), (43, 112), (44, 112), (45, 112), (46, 112), (47, 112), (48, 112), (49, 112), (50, 112), (51, 112), (52, 112), (53, 112), (54, 112), (55, 112), (56, 112), (57, 112), (58, 112), (59, 112), (60, 112), (61, 112), (62, 112), (62, 113), (62, 114), (62, 115), (62, 116), (62, 117), (62, 118), (62, 119), (62, 120), (62, 121), (62, 122), (62, 123), (62, 124), (62, 125), (62, 126), (62, 127), (62, 128), (62, 129), (62, 130), (62, 131), (62, 132), (62, 133), (63, 133), (64, 133), (65, 133), (66, 133), (67, 133), (68, 133), (69, 133), (70, 133), (71, 133), (72, 133), (73, 133), (74, 133), (75, 133), (76, 133), (77, 133), (78, 133), (79, 133), (80, 133), (81, 133), (82, 133), (83, 133), (84, 133), (85, 133), (86, 133), (87, 133), (88, 133), (88, 132), (89, 132), (89, 131), (89, 130), (89, 129), (89, 128), (89, 127), (89, 126), (89, 125), (89, 124), (89, 123), (89, 122), (89, 121), (89, 120), (89, 119), (89, 118), (89, 117), (89, 116), (89, 115), (89, 114), (89, 113), (89, 112), (90, 112), (91, 112), (92, 112), (93, 112), (94, 112), (95, 112), (96, 112), (97, 112), (98, 112), (98, 113), (98, 114), (98, 115), (98, 116), (98, 117), (98, 118), (98, 119), (98, 120), (98, 121), (98, 122), (98, 123), (98, 124), (98, 125), (98, 126), (98, 127), (98, 128), (98, 129), (98, 130), (98, 131), (98, 132), (98, 133), (98, 134), (98, 135), (98, 136), (98, 137), (98, 138), (98, 139), (98, 140), (98, 141), (98, 142), (98, 143), (98, 144), (99, 144), (100, 144)]\n"
          ]
        }
      ]
    },
    {
      "cell_type": "code",
      "source": [
        "start = (8,8)\n",
        "end = (100,144)\n",
        "#end = (10,10)\n",
        "print(start)\n",
        "print(end)\n",
        "len(maze)\n",
        "#maze[8][4] == 0\n",
        "#print_m(maze)"
      ],
      "metadata": {
        "colab": {
          "base_uri": "https://localhost:8080/"
        },
        "id": "lfZl2L2PjgGY",
        "outputId": "512d66fd-dea9-47fe-b36a-4c0d94543605"
      },
      "execution_count": null,
      "outputs": [
        {
          "output_type": "stream",
          "name": "stdout",
          "text": [
            "(8, 8)\n",
            "(100, 144)\n"
          ]
        },
        {
          "output_type": "execute_result",
          "data": {
            "text/plain": [
              "111"
            ]
          },
          "metadata": {},
          "execution_count": 225
        }
      ]
    },
    {
      "cell_type": "code",
      "source": [
        "ret, image = cv2.threshold(resized, 160, 255, cv2.THRESH_BINARY)\n",
        "for xy in path:\n",
        "  yc,xc = xy[0],xy[1]\n",
        "  cv2.circle(image, (xc,yc), radius=3, color=[0,0,255], thickness=1)"
      ],
      "metadata": {
        "id": "sZ5WYEKWmWA3"
      },
      "execution_count": null,
      "outputs": []
    },
    {
      "cell_type": "code",
      "source": [
        "plt.subplot(1, 2, 1)\n",
        "plt.imshow(image,'gray',vmin=0,vmax=255)\n",
        "plt.subplot(1, 2, 2)\n",
        "plt.imshow(binary_img,'gray',vmin=0,vmax=255)\n",
        "plt.show()"
      ],
      "metadata": {
        "colab": {
          "base_uri": "https://localhost:8080/",
          "height": 225
        },
        "id": "Hdv1_R14mgRH",
        "outputId": "2763eefc-7221-4f32-ee99-b9c677d18e72"
      },
      "execution_count": null,
      "outputs": [
        {
          "output_type": "display_data",
          "data": {
            "text/plain": [
              "<Figure size 640x480 with 2 Axes>"
            ],
            "image/png": "[encoded data removed]"
          },
          "metadata": {}
        }
      ]
    }
  ]
}