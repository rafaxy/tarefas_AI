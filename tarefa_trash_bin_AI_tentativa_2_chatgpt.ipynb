{
  "nbformat": 4,
  "nbformat_minor": 0,
  "metadata": {
    "colab": {
      "provenance": [],
      "gpuType": "T4",
      "authorship_tag": "ABX9TyN+kO3/YWZIOY6h1UkrAJ5h",
      "include_colab_link": true
    },
    "kernelspec": {
      "name": "python3",
      "display_name": "Python 3"
    },
    "language_info": {
      "name": "python"
    },
    "accelerator": "GPU"
  },
  "cells": [
    {
      "cell_type": "markdown",
      "metadata": {
        "id": "view-in-github",
        "colab_type": "text"
      },
      "source": [
        "<a href=\"https://colab.research.google.com/github/rafaxy/tarefas_AI/blob/main/tarefa_trash_bin_AI_tentativa_2_chatgpt.ipynb\" target=\"_parent\"><img src=\"https://colab.research.google.com/assets/colab-badge.svg\" alt=\"Open In Colab\"/></a>"
      ]
    },
    {
      "cell_type": "code",
      "execution_count": null,
      "metadata": {
        "colab": {
          "base_uri": "https://localhost:8080/"
        },
        "id": "ylOJ3eqmSYVH",
        "outputId": "e89c0202-a6e6-4840-a78e-3aa0c1919578"
      },
      "outputs": [
        {
          "output_type": "stream",
          "name": "stdout",
          "text": [
            "Looking in indexes: https://pypi.org/simple, https://us-python.pkg.dev/colab-wheels/public/simple/\n",
            "Collecting keras-tuner\n",
            "  Downloading keras_tuner-1.3.5-py3-none-any.whl (176 kB)\n",
            "\u001b[2K     \u001b[90m━━━━━━━━━━━━━━━━━━━━━━━━━━━━━━━━━━━━━━━\u001b[0m \u001b[32m176.1/176.1 kB\u001b[0m \u001b[31m6.3 MB/s\u001b[0m eta \u001b[36m0:00:00\u001b[0m\n",
            "\u001b[?25hRequirement already satisfied: packaging in /usr/local/lib/python3.10/dist-packages (from keras-tuner) (23.1)\n",
            "Requirement already satisfied: requests in /usr/local/lib/python3.10/dist-packages (from keras-tuner) (2.27.1)\n",
            "Collecting kt-legacy (from keras-tuner)\n",
            "  Downloading kt_legacy-1.0.5-py3-none-any.whl (9.6 kB)\n",
            "Requirement already satisfied: urllib3<1.27,>=1.21.1 in /usr/local/lib/python3.10/dist-packages (from requests->keras-tuner) (1.26.15)\n",
            "Requirement already satisfied: certifi>=2017.4.17 in /usr/local/lib/python3.10/dist-packages (from requests->keras-tuner) (2022.12.7)\n",
            "Requirement already satisfied: charset-normalizer~=2.0.0 in /usr/local/lib/python3.10/dist-packages (from requests->keras-tuner) (2.0.12)\n",
            "Requirement already satisfied: idna<4,>=2.5 in /usr/local/lib/python3.10/dist-packages (from requests->keras-tuner) (3.4)\n",
            "Installing collected packages: kt-legacy, keras-tuner\n",
            "Successfully installed keras-tuner-1.3.5 kt-legacy-1.0.5\n"
          ]
        }
      ],
      "source": [
        "!pip install keras-tuner\n",
        "!pip install -q gdown"
      ]
    },
    {
      "cell_type": "code",
      "source": [
        "import os\n",
        "import zipfile\n",
        "import gdown\n",
        "import numpy as np\n",
        "import matplotlib.pyplot as plt\n",
        "from keras.preprocessing import image\n",
        "from keras.preprocessing.image import ImageDataGenerator\n",
        "from keras_tuner.tuners import Hyperband\n",
        "from keras.models import Sequential\n",
        "from keras.layers import Dense, Conv2D, Flatten, MaxPooling2D\n",
        "from sklearn.metrics import confusion_matrix\n",
        "from sklearn.model_selection import train_test_split\n",
        "from tensorflow.keras.preprocessing.image import load_img, img_to_array"
      ],
      "metadata": {
        "id": "xeb1avLEXjmb"
      },
      "execution_count": null,
      "outputs": []
    },
    {
      "cell_type": "code",
      "source": [
        "# Download the zip file\n",
        "url = 'https://drive.google.com/uc?id=1L4mdCDBgybKqr5Wo-kqT8HXcBJ9HXqSX'\n",
        "output = 'trash_nov_22_2018.zip'\n",
        "gdown.download(url, output, quiet=False)\n",
        "\n",
        "# Extract the zip file\n",
        "with zipfile.ZipFile('trash_nov_22_2018.zip', 'r') as zip_ref:\n",
        "    zip_ref.extractall('dataset')"
      ],
      "metadata": {
        "colab": {
          "base_uri": "https://localhost:8080/"
        },
        "id": "vCAh7r3oShPB",
        "outputId": "72216298-8787-48ab-a0fe-810a25ed5c1d"
      },
      "execution_count": null,
      "outputs": [
        {
          "output_type": "stream",
          "name": "stderr",
          "text": [
            "Downloading...\n",
            "From: https://drive.google.com/uc?id=1L4mdCDBgybKqr5Wo-kqT8HXcBJ9HXqSX\n",
            "To: /content/trash_nov_22_2018.zip\n",
            "100%|██████████| 42.8M/42.8M [00:01<00:00, 39.9MB/s]\n"
          ]
        }
      ]
    },
    {
      "cell_type": "code",
      "source": [
        "# Create a list of categories\n",
        "categories = ['trash', 'metal', 'paper', 'plastic', 'glass', 'cardboard']\n",
        "\n",
        "# Create a list to store images and labels\n",
        "images = []\n",
        "labels = []\n",
        "\n",
        "# Load and preprocess the images\n",
        "for category in categories:\n",
        "    for file_name in os.listdir('dataset'):\n",
        "        if file_name.startswith(category):\n",
        "            img = load_img(f'dataset/{file_name}', target_size=(224, 224))\n",
        "            img_array = img_to_array(img)\n",
        "            images.append(img_array)\n",
        "            labels.append(category)\n",
        "\n",
        "\n",
        "# Convert lists to numpy arrays\n",
        "images = np.array(images)\n",
        "labels = np.array(labels)\n",
        "\n",
        "from sklearn.preprocessing import LabelBinarizer\n",
        "\n",
        "# One-hot encode the labels\n",
        "label_binarizer = LabelBinarizer()\n",
        "labels = label_binarizer.fit_transform(labels)\n",
        "\n",
        "# Now your labels are one-hot encoded, so you can split them into training and test sets\n",
        "X_train, X_test, y_train, y_test = train_test_split(images, labels, test_size=0.2, random_state=42)\n"
      ],
      "metadata": {
        "id": "LDgWPWvmSjuH"
      },
      "execution_count": null,
      "outputs": []
    },
    {
      "cell_type": "code",
      "source": [
        "def build_model(hp):\n",
        "    model = Sequential()\n",
        "    model.add(Conv2D(filters=hp.Int('conv_1_filter', min_value=32, max_value=128, step=16),\n",
        "                     kernel_size=hp.Choice('conv_1_kernel', values = [3,5]),\n",
        "                     activation='relu',\n",
        "                     input_shape=(224,224,3)))\n",
        "    model.add(MaxPooling2D(pool_size=2))\n",
        "    model.add(Conv2D(filters=hp.Int('conv_2_filter', min_value=32, max_value=64, step=16),\n",
        "                     kernel_size=hp.Choice('conv_2_kernel', values = [3,5]),\n",
        "                     activation='relu'))\n",
        "    model.add(MaxPooling2D(pool_size=2))\n",
        "    model.add(Flatten())\n",
        "    model.add(Dense(units=hp.Int('dense_1_units', min_value=32, max_value=128, step=16),\n",
        "                    activation='relu'))\n",
        "    model.add(Dense(6, activation='softmax'))\n",
        "    model.compile(optimizer='adam', loss='categorical_crossentropy', metrics=['accuracy'])\n",
        "    return model\n",
        "\n",
        "tuner = Hyperband(build_model,\n",
        "                  objective='val_accuracy',\n",
        "                  max_epochs=10,\n",
        "                  directory='output',\n",
        "                  project_name='TrashClassifier')\n"
      ],
      "metadata": {
        "id": "MkJ5m3VGYy7-"
      },
      "execution_count": null,
      "outputs": []
    },
    {
      "cell_type": "code",
      "source": [
        "# Search for the best model\n",
        "tuner.search(X_train, y_train, epochs=10, validation_data=(X_test, y_test))\n",
        "\n",
        "# Get the optimal hyperparameters\n",
        "best_hps=tuner.get_best_hyperparameters(num_trials=1)[0]\n",
        "\n",
        "# Build the model with the optimal hyperparameters\n",
        "model = tuner.hypermodel.build(best_hps)\n",
        "\n",
        "# Train the model\n",
        "history = model.fit(X_train, y_train, epochs=10, validation_data=(X_test, y_test))\n",
        "\n",
        "# Print the performance results for each model as they are being tested\n",
        "for key in history.history.keys():\n",
        "    print(key, ' : ', history.history[key])\n"
      ],
      "metadata": {
        "colab": {
          "base_uri": "https://localhost:8080/"
        },
        "id": "m8z9PEKxY3w7",
        "outputId": "66ad9987-2321-406c-e3ae-0fae4a996707"
      },
      "execution_count": null,
      "outputs": [
        {
          "output_type": "stream",
          "name": "stdout",
          "text": [
            "Trial 30 Complete [00h 01m 25s]\n",
            "val_accuracy: 0.24703557789325714\n",
            "\n",
            "Best val_accuracy So Far: 0.3853754997253418\n",
            "Total elapsed time: 00h 17m 15s\n",
            "Epoch 1/10\n",
            "64/64 [==============================] - 6s 64ms/step - loss: 190.1856 - accuracy: 0.2202 - val_loss: 1.7518 - val_accuracy: 0.2213\n",
            "Epoch 2/10\n",
            "64/64 [==============================] - 4s 61ms/step - loss: 1.6332 - accuracy: 0.3187 - val_loss: 1.9678 - val_accuracy: 0.2352\n",
            "Epoch 3/10\n",
            "64/64 [==============================] - 4s 57ms/step - loss: 1.6078 - accuracy: 0.3256 - val_loss: 1.9158 - val_accuracy: 0.1937\n",
            "Epoch 4/10\n",
            "64/64 [==============================] - 4s 56ms/step - loss: 1.2333 - accuracy: 0.4928 - val_loss: 2.4331 - val_accuracy: 0.2609\n",
            "Epoch 5/10\n",
            "64/64 [==============================] - 4s 61ms/step - loss: 0.8456 - accuracy: 0.6705 - val_loss: 3.4300 - val_accuracy: 0.3024\n",
            "Epoch 6/10\n",
            "64/64 [==============================] - 4s 58ms/step - loss: 0.7451 - accuracy: 0.7432 - val_loss: 3.0850 - val_accuracy: 0.3024\n",
            "Epoch 7/10\n",
            "64/64 [==============================] - 4s 56ms/step - loss: 0.5783 - accuracy: 0.8006 - val_loss: 4.5256 - val_accuracy: 0.3300\n",
            "Epoch 8/10\n",
            "64/64 [==============================] - 4s 56ms/step - loss: 0.5204 - accuracy: 0.8377 - val_loss: 5.5049 - val_accuracy: 0.3024\n",
            "Epoch 9/10\n",
            "64/64 [==============================] - 4s 60ms/step - loss: 0.4898 - accuracy: 0.8456 - val_loss: 6.3510 - val_accuracy: 0.3320\n",
            "Epoch 10/10\n",
            "64/64 [==============================] - 4s 56ms/step - loss: 0.3870 - accuracy: 0.8718 - val_loss: 7.0453 - val_accuracy: 0.3340\n",
            "loss  :  [190.18556213378906, 1.6332440376281738, 1.6078358888626099, 1.233336329460144, 0.8455851078033447, 0.7450889945030212, 0.5783143639564514, 0.5204263925552368, 0.48981016874313354, 0.38702306151390076]\n",
            "accuracy  :  [0.22018802165985107, 0.3186541199684143, 0.3255814015865326, 0.49282532930374146, 0.6704601645469666, 0.743196427822113, 0.8005937933921814, 0.8377041220664978, 0.8456209897994995, 0.8718456029891968]\n",
            "val_loss  :  [1.7518422603607178, 1.967752456665039, 1.9158443212509155, 2.4331254959106445, 3.430039167404175, 3.0849640369415283, 4.525575637817383, 5.504856586456299, 6.351022720336914, 7.045281410217285]\n",
            "val_accuracy  :  [0.22134387493133545, 0.23517785966396332, 0.19367589056491852, 0.260869562625885, 0.3023715317249298, 0.3023715317249298, 0.33003953099250793, 0.3023715317249298, 0.3320158123970032, 0.3339920938014984]\n"
          ]
        }
      ]
    },
    {
      "cell_type": "code",
      "source": [
        "#You can convert y_test from one-hot encoded to label encoded using numpy.argmax function, which will return the\n",
        "#index of the maximum value from each row (in this case, the index refers to the class). Here is how you can do it:\n",
        "y_test_labels = np.argmax(y_test, axis=1)\n",
        "# Get the predictions\n",
        "y_pred = model.predict(X_test)\n",
        "\n",
        "# Convert predictions to labels\n",
        "y_pred_labels = np.argmax(y_pred, axis=1)\n",
        "\n",
        "# Create a confusion matrix\n",
        "cm = confusion_matrix(y_test_labels, y_pred_labels)\n",
        "\n",
        "# Plot the confusion matrix\n",
        "plt.imshow(cm, cmap=plt.cm.Blues)\n",
        "plt.xlabel(\"Predicted labels\")\n",
        "plt.ylabel(\"True labels\")\n",
        "plt.xticks([], [])\n",
        "plt.yticks([], [])\n",
        "plt.title('Confusion matrix ')\n",
        "plt.colorbar()\n",
        "plt.show()\n",
        "print(cm)\n",
        "import pandas as pd\n",
        "\n",
        "categories = ['trash', 'metal', 'paper', 'plastic', 'glass', 'cardboard']  # Replace with your categories\n",
        "\n",
        "confusion_df = pd.DataFrame(cm, index=categories, columns=categories)\n",
        "\n",
        "print(confusion_df)"
      ],
      "metadata": {
        "colab": {
          "base_uri": "https://localhost:8080/",
          "height": 691
        },
        "id": "BQFeiLvvHayx",
        "outputId": "efcd5ec1-8ea3-4b05-ca0e-a5d8827a6cc5"
      },
      "execution_count": null,
      "outputs": [
        {
          "output_type": "stream",
          "name": "stdout",
          "text": [
            "16/16 [==============================] - 1s 29ms/step\n"
          ]
        },
        {
          "output_type": "display_data",
          "data": {
            "text/plain": [
              "<Figure size 640x480 with 2 Axes>"
            ],
            "image/png": "[encoded data removed]"
          },
          "metadata": {}
        },
        {
          "output_type": "stream",
          "name": "stdout",
          "text": [
            "[[20 13 13 17 12  3]\n",
            " [13 33 17 18 17  4]\n",
            " [ 4 21 19 30 12  4]\n",
            " [ 3 19 20 48 25  3]\n",
            " [ 9 23  6 12 47  1]\n",
            " [ 2  4  3  1  8  2]]\n",
            "           trash  metal  paper  plastic  glass  cardboard\n",
            "trash         20     13     13       17     12          3\n",
            "metal         13     33     17       18     17          4\n",
            "paper          4     21     19       30     12          4\n",
            "plastic        3     19     20       48     25          3\n",
            "glass          9     23      6       12     47          1\n",
            "cardboard      2      4      3        1      8          2\n"
          ]
        }
      ]
    },
    {
      "cell_type": "code",
      "source": [
        "best_hps = tuner.get_best_hyperparameters(num_trials=1)[0]\n",
        "\n",
        "print(f\"\"\"\n",
        "Best hyperparameters:\n",
        "- conv_1_filter: {best_hps.get('conv_1_filter')}\n",
        "- conv_1_kernel: {best_hps.get('conv_1_kernel')}\n",
        "- conv_2_filter: {best_hps.get('conv_2_filter')}\n",
        "- conv_2_kernel: {best_hps.get('conv_2_kernel')}\n",
        "- dense_1_units: {best_hps.get('dense_1_units')}\n",
        "\"\"\")\n"
      ],
      "metadata": {
        "colab": {
          "base_uri": "https://localhost:8080/"
        },
        "id": "b7uXZ4wJI6ET",
        "outputId": "48ab69e9-08d5-4af3-f845-03a0835a9bf2"
      },
      "execution_count": null,
      "outputs": [
        {
          "output_type": "stream",
          "name": "stdout",
          "text": [
            "\n",
            "Best hyperparameters:\n",
            "- conv_1_filter: 48\n",
            "- conv_1_kernel: 3\n",
            "- conv_2_filter: 64\n",
            "- conv_2_kernel: 3\n",
            "- dense_1_units: 32\n",
            "\n"
          ]
        }
      ]
    }
  ]
}