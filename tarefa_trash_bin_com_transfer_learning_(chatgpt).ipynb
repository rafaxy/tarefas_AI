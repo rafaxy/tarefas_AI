{
  "nbformat": 4,
  "nbformat_minor": 0,
  "metadata": {
    "colab": {
      "provenance": [],
      "gpuType": "T4",
      "authorship_tag": "ABX9TyMZ76n4fguGTyIJ+g5EkooI",
      "include_colab_link": true
    },
    "kernelspec": {
      "name": "python3",
      "display_name": "Python 3"
    },
    "language_info": {
      "name": "python"
    },
    "accelerator": "GPU"
  },
  "cells": [
    {
      "cell_type": "markdown",
      "metadata": {
        "id": "view-in-github",
        "colab_type": "text"
      },
      "source": [
        "<a href=\"https://colab.research.google.com/github/rafaxy/tarefas_AI/blob/main/tarefa_trash_bin_com_transfer_learning_(chatgpt).ipynb\" target=\"_parent\"><img src=\"https://colab.research.google.com/assets/colab-badge.svg\" alt=\"Open In Colab\"/></a>"
      ]
    },
    {
      "cell_type": "code",
      "execution_count": null,
      "metadata": {
        "colab": {
          "base_uri": "https://localhost:8080/"
        },
        "id": "yyYaBxxqVuGp",
        "outputId": "c95646a5-c972-48e8-f5b6-17afc7227b09"
      },
      "outputs": [
        {
          "output_type": "stream",
          "name": "stdout",
          "text": [
            "Looking in indexes: https://pypi.org/simple, https://us-python.pkg.dev/colab-wheels/public/simple/\n",
            "Requirement already satisfied: keras-tuner in /usr/local/lib/python3.10/dist-packages (1.3.5)\n",
            "Requirement already satisfied: packaging in /usr/local/lib/python3.10/dist-packages (from keras-tuner) (23.1)\n",
            "Requirement already satisfied: requests in /usr/local/lib/python3.10/dist-packages (from keras-tuner) (2.27.1)\n",
            "Requirement already satisfied: kt-legacy in /usr/local/lib/python3.10/dist-packages (from keras-tuner) (1.0.5)\n",
            "Requirement already satisfied: urllib3<1.27,>=1.21.1 in /usr/local/lib/python3.10/dist-packages (from requests->keras-tuner) (1.26.15)\n",
            "Requirement already satisfied: certifi>=2017.4.17 in /usr/local/lib/python3.10/dist-packages (from requests->keras-tuner) (2022.12.7)\n",
            "Requirement already satisfied: charset-normalizer~=2.0.0 in /usr/local/lib/python3.10/dist-packages (from requests->keras-tuner) (2.0.12)\n",
            "Requirement already satisfied: idna<4,>=2.5 in /usr/local/lib/python3.10/dist-packages (from requests->keras-tuner) (3.4)\n"
          ]
        }
      ],
      "source": [
        "!pip install keras-tuner\n",
        "!pip install -q gdown\n",
        "import os\n",
        "import zipfile\n",
        "import gdown\n",
        "import numpy as np\n",
        "import matplotlib.pyplot as plt\n",
        "from keras.preprocessing import image\n",
        "from keras.preprocessing.image import ImageDataGenerator\n",
        "from keras_tuner.tuners import Hyperband\n",
        "from keras.models import Sequential, Model\n",
        "from keras.layers import Dense, Flatten\n",
        "from keras.applications import MobileNetV2\n",
        "from sklearn.metrics import confusion_matrix\n",
        "from sklearn.model_selection import train_test_split\n",
        "from tensorflow.keras.preprocessing.image import load_img, img_to_array\n",
        "from tensorflow.keras.optimizers import Adam\n",
        "\n"
      ]
    },
    {
      "cell_type": "code",
      "source": [
        "# Your code to load and preprocess the images here...\n",
        "\n",
        "# Download the zip file\n",
        "url = 'https://drive.google.com/uc?id=1L4mdCDBgybKqr5Wo-kqT8HXcBJ9HXqSX'\n",
        "output = 'trash_nov_22_2018.zip'\n",
        "gdown.download(url, output, quiet=False)\n",
        "\n",
        "# Extract the zip file\n",
        "with zipfile.ZipFile('trash_nov_22_2018.zip', 'r') as zip_ref:\n",
        "    zip_ref.extractall('dataset')\n",
        "\n",
        "# Create a list of categories\n",
        "categories = ['trash', 'metal', 'paper', 'plastic', 'glass', 'cardboard']\n",
        "\n",
        "# Create a list to store images and labels\n",
        "images = []\n",
        "labels = []\n",
        "\n",
        "# Load and preprocess the images\n",
        "for category in categories:\n",
        "    for file_name in os.listdir('dataset'):\n",
        "        if file_name.startswith(category):\n",
        "            img = load_img(f'dataset/{file_name}', target_size=(224, 224))\n",
        "            img_array = img_to_array(img)\n",
        "            images.append(img_array)\n",
        "            labels.append(category)\n",
        "\n",
        "\n",
        "# Convert lists to numpy arrays\n",
        "images = np.array(images)\n",
        "labels = np.array(labels)\n",
        "\n",
        "from sklearn.preprocessing import LabelBinarizer\n",
        "\n",
        "# One-hot encode the labels\n",
        "label_binarizer = LabelBinarizer()\n",
        "labels = label_binarizer.fit_transform(labels)\n",
        "\n",
        "# Now your labels are one-hot encoded, so you can split them into training and test sets\n",
        "X_train, X_test, y_train, y_test = train_test_split(images, labels, test_size=0.2, random_state=42)\n",
        "\n"
      ],
      "metadata": {
        "colab": {
          "base_uri": "https://localhost:8080/"
        },
        "id": "agYDjL39XKGs",
        "outputId": "62d60c45-1b9c-4df8-8256-40c1dfdbd7cd"
      },
      "execution_count": null,
      "outputs": [
        {
          "output_type": "stream",
          "name": "stderr",
          "text": [
            "Downloading...\n",
            "From: https://drive.google.com/uc?id=1L4mdCDBgybKqr5Wo-kqT8HXcBJ9HXqSX\n",
            "To: /content/trash_nov_22_2018.zip\n",
            "100%|██████████| 42.8M/42.8M [00:00<00:00, 298MB/s]\n"
          ]
        }
      ]
    },
    {
      "cell_type": "code",
      "source": [
        "def build_model(hp):\n",
        "    base_model = MobileNetV2(weights='imagenet', include_top=False, input_shape=(224,224,3))\n",
        "    base_model.trainable = False\n",
        "\n",
        "    model = Sequential()\n",
        "    model.add(base_model)\n",
        "    model.add(Flatten())\n",
        "\n",
        "    model.add(Dense(units=hp.Int('dense_1_units', min_value=32, max_value=128, step=16), activation='relu'))\n",
        "    model.add(Dense(6, activation='softmax'))\n",
        "\n",
        "    model.compile(optimizer=Adam(hp.Choice('learning_rate', values=[1e-3, 1e-4, 1e-5])),\n",
        "                  loss='categorical_crossentropy', metrics=['accuracy'])\n",
        "    return model\n",
        "\n",
        "tuner = Hyperband(build_model,\n",
        "                  objective='val_accuracy',\n",
        "                  max_epochs=30,\n",
        "                  directory='output',\n",
        "                  project_name='TrashClassifier')"
      ],
      "metadata": {
        "id": "aRK-hdvWXSHI"
      },
      "execution_count": null,
      "outputs": []
    },
    {
      "cell_type": "code",
      "source": [
        "# Your code for model training and evaluation here...\n",
        "# Search for the best model\n",
        "tuner.search(X_train, y_train, epochs=10, validation_data=(X_test, y_test))\n",
        "\n",
        "# Get the optimal hyperparameters\n",
        "best_hps=tuner.get_best_hyperparameters(num_trials=1)[0]\n",
        "\n",
        "# Build the model with the optimal hyperparameters\n",
        "model = tuner.hypermodel.build(best_hps)\n",
        "\n",
        "# Train the model\n",
        "history = model.fit(X_train, y_train, epochs=10, validation_data=(X_test, y_test))\n",
        "\n",
        "# Print the performance results for each model as they are being tested\n",
        "for key in history.history.keys():\n",
        "    print(key, ' : ', history.history[key])"
      ],
      "metadata": {
        "colab": {
          "base_uri": "https://localhost:8080/"
        },
        "id": "sKKsy0fAZl21",
        "outputId": "1e228437-6258-4408-95ac-b99874d2dfdc"
      },
      "execution_count": null,
      "outputs": [
        {
          "output_type": "stream",
          "name": "stdout",
          "text": [
            "Epoch 1/10\n",
            "64/64 [==============================] - 23s 91ms/step - loss: 3.4302 - accuracy: 0.3939 - val_loss: 1.3645 - val_accuracy: 0.5316\n",
            "Epoch 2/10\n",
            "64/64 [==============================] - 4s 63ms/step - loss: 1.2181 - accuracy: 0.5666 - val_loss: 1.2796 - val_accuracy: 0.5415\n",
            "Epoch 3/10\n",
            "64/64 [==============================] - 4s 63ms/step - loss: 1.1211 - accuracy: 0.5844 - val_loss: 1.2431 - val_accuracy: 0.5968\n",
            "Epoch 4/10\n",
            "64/64 [==============================] - 4s 67ms/step - loss: 0.9125 - accuracy: 0.6799 - val_loss: 1.1583 - val_accuracy: 0.6126\n",
            "Epoch 5/10\n",
            "64/64 [==============================] - 4s 63ms/step - loss: 0.8229 - accuracy: 0.6957 - val_loss: 1.1502 - val_accuracy: 0.6166\n",
            "Epoch 6/10\n",
            "64/64 [==============================] - 3s 54ms/step - loss: 0.6683 - accuracy: 0.7600 - val_loss: 1.1137 - val_accuracy: 0.6462\n",
            "Epoch 7/10\n",
            "64/64 [==============================] - 4s 66ms/step - loss: 0.5893 - accuracy: 0.7783 - val_loss: 1.0668 - val_accuracy: 0.6660\n",
            "Epoch 8/10\n",
            "64/64 [==============================] - 4s 63ms/step - loss: 0.4959 - accuracy: 0.8159 - val_loss: 1.0168 - val_accuracy: 0.6680\n",
            "Epoch 9/10\n",
            "64/64 [==============================] - 4s 64ms/step - loss: 0.3662 - accuracy: 0.8491 - val_loss: 1.1008 - val_accuracy: 0.6719\n",
            "Epoch 10/10\n",
            "64/64 [==============================] - 4s 56ms/step - loss: 0.2996 - accuracy: 0.8669 - val_loss: 1.1490 - val_accuracy: 0.6877\n",
            "loss  :  [3.4301750659942627, 1.2180984020233154, 1.1210651397705078, 0.9124535322189331, 0.8229293823242188, 0.6682667136192322, 0.589264452457428, 0.4959307909011841, 0.3661651909351349, 0.299635648727417]\n",
            "accuracy  :  [0.3938644230365753, 0.5665512084960938, 0.5843641757965088, 0.6798614263534546, 0.6956952214241028, 0.7600197792053223, 0.7783275842666626, 0.8159326910972595, 0.8490846157073975, 0.8668975830078125]\n",
            "val_loss  :  [1.3644789457321167, 1.279643177986145, 1.2431316375732422, 1.1582648754119873, 1.1501996517181396, 1.1136701107025146, 1.0668275356292725, 1.016770362854004, 1.1008195877075195, 1.1489746570587158]\n",
            "val_accuracy  :  [0.5316205620765686, 0.5415019989013672, 0.5968379378318787, 0.6126482486724854, 0.6166008114814758, 0.6462450623512268, 0.6660078763961792, 0.6679841876029968, 0.6719367504119873, 0.687747061252594]\n"
          ]
        }
      ]
    },
    {
      "cell_type": "code",
      "source": [
        "tuner.results_summary()\n"
      ],
      "metadata": {
        "colab": {
          "base_uri": "https://localhost:8080/"
        },
        "id": "s8QiiO5ljYvo",
        "outputId": "272137f3-414b-48b5-a08d-063230ff7b5d"
      },
      "execution_count": null,
      "outputs": [
        {
          "output_type": "stream",
          "name": "stdout",
          "text": [
            "Results summary\n",
            "Results in output/TrashClassifier\n",
            "Showing 10 best trials\n",
            "Objective(name=\"val_accuracy\", direction=\"max\")\n",
            "\n",
            "Trial 0006 summary\n",
            "Hyperparameters:\n",
            "dense_1_units: 48\n",
            "tuner/epochs: 2\n",
            "tuner/initial_epoch: 0\n",
            "tuner/bracket: 2\n",
            "tuner/round: 0\n",
            "learning_rate: 0.001\n",
            "Score: 0.6996047496795654\n",
            "\n",
            "Trial 0001 summary\n",
            "Hyperparameters:\n",
            "dense_1_units: 112\n",
            "tuner/epochs: 2\n",
            "tuner/initial_epoch: 0\n",
            "tuner/bracket: 2\n",
            "tuner/round: 0\n",
            "Score: 0.6798418760299683\n",
            "\n",
            "Trial 0002 summary\n",
            "Hyperparameters:\n",
            "dense_1_units: 128\n",
            "tuner/epochs: 2\n",
            "tuner/initial_epoch: 0\n",
            "tuner/bracket: 2\n",
            "tuner/round: 0\n",
            "Score: 0.6324110627174377\n",
            "\n",
            "Trial 0000 summary\n",
            "Hyperparameters:\n",
            "dense_1_units: 96\n",
            "tuner/epochs: 2\n",
            "tuner/initial_epoch: 0\n",
            "tuner/bracket: 2\n",
            "tuner/round: 0\n",
            "Score: 0.6225296258926392\n",
            "\n",
            "Trial 0005 summary\n",
            "Hyperparameters:\n",
            "dense_1_units: 80\n",
            "tuner/epochs: 2\n",
            "tuner/initial_epoch: 0\n",
            "tuner/bracket: 2\n",
            "tuner/round: 0\n",
            "Score: 0.6225296258926392\n",
            "\n",
            "Trial 0004 summary\n",
            "Hyperparameters:\n",
            "dense_1_units: 64\n",
            "tuner/epochs: 2\n",
            "tuner/initial_epoch: 0\n",
            "tuner/bracket: 2\n",
            "tuner/round: 0\n",
            "Score: 0.5691699385643005\n",
            "\n",
            "Trial 0003 summary\n",
            "Hyperparameters:\n",
            "dense_1_units: 32\n",
            "tuner/epochs: 2\n",
            "tuner/initial_epoch: 0\n",
            "tuner/bracket: 2\n",
            "tuner/round: 0\n",
            "Score: 0.44071146845817566\n"
          ]
        }
      ]
    },
    {
      "cell_type": "code",
      "source": [
        "best_hps = tuner.get_best_hyperparameters(num_trials=1)[0]\n",
        "\n",
        "print(f\"\"\"\n",
        "Best hyperparameters:\n",
        "- dense_1_units: {best_hps.get('dense_1_units')}\n",
        "- learning_rate: {best_hps.get('learning_rate')}\n",
        "\"\"\")"
      ],
      "metadata": {
        "colab": {
          "base_uri": "https://localhost:8080/"
        },
        "id": "sq8ft15vf_by",
        "outputId": "98c13360-c604-41b1-ab4f-9f8f1b6931c7"
      },
      "execution_count": null,
      "outputs": [
        {
          "output_type": "stream",
          "name": "stdout",
          "text": [
            "\n",
            "Best hyperparameters:\n",
            "- dense_1_units: 48\n",
            "- learning_rate: 0.001\n",
            "\n"
          ]
        }
      ]
    },
    {
      "cell_type": "code",
      "source": [
        "# Build the model with the optimal hyperparameters\n",
        "model = tuner.hypermodel.build(best_hps)\n",
        "\n",
        "# Train the model\n",
        "history = model.fit(X_train, y_train, epochs=20, validation_data=(X_test, y_test))\n",
        "\n",
        "# Accuracy vs Epochs\n",
        "plt.figure(figsize=(12, 6))\n",
        "plt.plot(history.history['accuracy'])\n",
        "plt.plot(history.history['val_accuracy'])\n",
        "plt.title('Model accuracy')\n",
        "plt.ylabel('Accuracy')\n",
        "plt.xlabel('Epoch')\n",
        "plt.legend(['Train', 'Test'], loc='upper left')\n",
        "plt.show()\n",
        "\n",
        "# Loss vs Epochs\n",
        "plt.figure(figsize=(12, 6))\n",
        "plt.plot(history.history['loss'])\n",
        "plt.plot(history.history['val_loss'])\n",
        "plt.title('Model loss')\n",
        "plt.ylabel('Loss')\n",
        "plt.xlabel('Epoch')\n",
        "plt.legend(['Train', 'Test'], loc='upper left')\n",
        "plt.show()\n"
      ],
      "metadata": {
        "colab": {
          "base_uri": "https://localhost:8080/",
          "height": 1000
        },
        "id": "DZfAcyA4eSsO",
        "outputId": "8851f697-5c99-4098-e398-fb1c7e530582"
      },
      "execution_count": null,
      "outputs": [
        {
          "output_type": "stream",
          "name": "stdout",
          "text": [
            "Epoch 1/20\n",
            "64/64 [==============================] - 8s 86ms/step - loss: 3.6791 - accuracy: 0.4800 - val_loss: 1.2929 - val_accuracy: 0.6225\n",
            "Epoch 2/20\n",
            "64/64 [==============================] - 4s 56ms/step - loss: 0.5688 - accuracy: 0.8021 - val_loss: 0.9244 - val_accuracy: 0.6838\n",
            "Epoch 3/20\n",
            "64/64 [==============================] - 4s 64ms/step - loss: 0.2714 - accuracy: 0.9164 - val_loss: 0.9446 - val_accuracy: 0.7154\n",
            "Epoch 4/20\n",
            "64/64 [==============================] - 3s 54ms/step - loss: 0.1796 - accuracy: 0.9500 - val_loss: 1.0338 - val_accuracy: 0.6897\n",
            "Epoch 5/20\n",
            "64/64 [==============================] - 4s 64ms/step - loss: 0.0905 - accuracy: 0.9802 - val_loss: 0.9291 - val_accuracy: 0.7233\n",
            "Epoch 6/20\n",
            "64/64 [==============================] - 4s 64ms/step - loss: 0.0543 - accuracy: 0.9906 - val_loss: 0.8886 - val_accuracy: 0.7352\n",
            "Epoch 7/20\n",
            "64/64 [==============================] - 3s 54ms/step - loss: 0.0387 - accuracy: 0.9946 - val_loss: 1.0556 - val_accuracy: 0.7213\n",
            "Epoch 8/20\n",
            "64/64 [==============================] - 4s 56ms/step - loss: 0.0352 - accuracy: 0.9970 - val_loss: 1.0581 - val_accuracy: 0.7115\n",
            "Epoch 9/20\n",
            "64/64 [==============================] - 5s 73ms/step - loss: 0.0336 - accuracy: 0.9955 - val_loss: 0.9415 - val_accuracy: 0.7332\n",
            "Epoch 10/20\n",
            "64/64 [==============================] - 5s 73ms/step - loss: 0.0223 - accuracy: 0.9965 - val_loss: 1.0610 - val_accuracy: 0.7391\n",
            "Epoch 11/20\n",
            "64/64 [==============================] - 5s 75ms/step - loss: 0.0255 - accuracy: 0.9965 - val_loss: 0.9267 - val_accuracy: 0.7470\n",
            "Epoch 12/20\n",
            "64/64 [==============================] - 4s 61ms/step - loss: 0.0235 - accuracy: 0.9975 - val_loss: 1.0452 - val_accuracy: 0.7352\n",
            "Epoch 13/20\n",
            "64/64 [==============================] - 4s 64ms/step - loss: 0.0188 - accuracy: 0.9970 - val_loss: 1.0666 - val_accuracy: 0.7154\n",
            "Epoch 14/20\n",
            "64/64 [==============================] - 3s 54ms/step - loss: 0.0164 - accuracy: 0.9975 - val_loss: 1.1224 - val_accuracy: 0.7075\n",
            "Epoch 15/20\n",
            "64/64 [==============================] - 4s 55ms/step - loss: 0.0201 - accuracy: 0.9985 - val_loss: 1.0997 - val_accuracy: 0.7332\n",
            "Epoch 16/20\n",
            "64/64 [==============================] - 4s 63ms/step - loss: 0.0159 - accuracy: 0.9985 - val_loss: 1.0102 - val_accuracy: 0.7490\n",
            "Epoch 17/20\n",
            "64/64 [==============================] - 3s 54ms/step - loss: 0.0095 - accuracy: 0.9990 - val_loss: 0.9818 - val_accuracy: 0.7431\n",
            "Epoch 18/20\n",
            "64/64 [==============================] - 4s 56ms/step - loss: 0.0063 - accuracy: 0.9990 - val_loss: 1.0430 - val_accuracy: 0.7312\n",
            "Epoch 19/20\n",
            "64/64 [==============================] - 4s 64ms/step - loss: 0.0063 - accuracy: 0.9990 - val_loss: 1.0630 - val_accuracy: 0.7391\n",
            "Epoch 20/20\n",
            "64/64 [==============================] - 3s 54ms/step - loss: 0.0094 - accuracy: 0.9975 - val_loss: 1.1584 - val_accuracy: 0.7075\n"
          ]
        },
        {
          "output_type": "display_data",
          "data": {
            "text/plain": [
              "<Figure size 1200x600 with 1 Axes>"
            ],
            "image/png": "[encoded data removed]"
          },
          "metadata": {}
        },
        {
          "output_type": "display_data",
          "data": {
            "text/plain": [
              "<Figure size 1200x600 with 1 Axes>"
            ],
            "image/png": "[encoded data removed]"
          },
          "metadata": {}
        }
      ]
    },
    {
      "cell_type": "code",
      "source": [
        "from sklearn.metrics import confusion_matrix\n",
        "import pandas as pd\n",
        "\n",
        "# Get the model's predictions for the test set\n",
        "y_pred = model.predict(X_test)\n",
        "\n",
        "# Convert the predictions from probabilities to class labels\n",
        "y_pred_classes = np.argmax(y_pred, axis=1)\n",
        "\n",
        "# Convert the test set labels from one-hot encoded to class labels\n",
        "y_test_classes = np.argmax(y_test, axis=1)\n",
        "\n",
        "# Get the confusion matrix\n",
        "cm = confusion_matrix(y_test_classes, y_pred_classes)\n",
        "\n",
        "# Convert the confusion matrix to a DataFrame. This is mainly done to label the indices and columns\n",
        "cm_df = pd.DataFrame(cm, index=categories, columns=categories)\n",
        "\n",
        "# Print the confusion matrix\n",
        "print(cm_df)\n"
      ],
      "metadata": {
        "colab": {
          "base_uri": "https://localhost:8080/"
        },
        "id": "bMgJtK2tmQC_",
        "outputId": "53030a22-44db-460b-d80d-002c1f3f4a01"
      },
      "execution_count": null,
      "outputs": [
        {
          "output_type": "stream",
          "name": "stdout",
          "text": [
            "16/16 [==============================] - 3s 42ms/step\n",
            "           trash  metal  paper  plastic  glass  cardboard\n",
            "trash         68      3      3        2      2          0\n",
            "metal          6     80     12        0      4          0\n",
            "paper          2     15     69        2      2          0\n",
            "plastic        9      2      8       82     10          7\n",
            "glass          6     19     16        7     50          0\n",
            "cardboard      1      2      5        2      1          9\n"
          ]
        }
      ]
    },
    {
      "cell_type": "code",
      "source": [
        "# Convert the test set labels from one-hot encoded to class labels\n",
        "y_test_classes = np.argmax(y_test, axis=1)\n",
        "\n",
        "# Count the occurrences of each label in y_test_classes\n",
        "label_counts = np.bincount(y_test_classes)\n",
        "\n",
        "# Create a dictionary to store label counts\n",
        "label_counts_dict = {categories[i]: count for i, count in enumerate(label_counts)}\n",
        "\n",
        "# Print the label counts\n",
        "for label, count in label_counts_dict.items():\n",
        "    print(f'{label}: {count}')\n",
        "\n"
      ],
      "metadata": {
        "colab": {
          "base_uri": "https://localhost:8080/"
        },
        "id": "fZBkOGxSm_zb",
        "outputId": "da9a794b-e77d-4f67-e1fb-d63d54a475a0"
      },
      "execution_count": null,
      "outputs": [
        {
          "output_type": "stream",
          "name": "stdout",
          "text": [
            "trash: 78\n",
            "metal: 102\n",
            "paper: 90\n",
            "plastic: 118\n",
            "glass: 98\n",
            "cardboard: 20\n"
          ]
        }
      ]
    },
    {
      "cell_type": "code",
      "source": [
        "from sklearn.metrics import classification_report\n",
        "\n",
        "# Get the model's predictions for the test set\n",
        "y_pred = model.predict(X_test)\n",
        "\n",
        "# Convert the predictions from probabilities to class labels\n",
        "y_pred_classes = np.argmax(y_pred, axis=1)\n",
        "\n",
        "# Convert the test set labels from one-hot encoded to class labels\n",
        "y_test_classes = np.argmax(y_test, axis=1)\n",
        "\n",
        "# Compute the classification report\n",
        "report = classification_report(y_test_classes, y_pred_classes, target_names=categories)\n",
        "\n",
        "# Print the classification report\n",
        "print(report)\n"
      ],
      "metadata": {
        "colab": {
          "base_uri": "https://localhost:8080/"
        },
        "id": "nvkl8FaynxA5",
        "outputId": "9c449186-c59c-4912-ae09-269497521185"
      },
      "execution_count": null,
      "outputs": [
        {
          "output_type": "stream",
          "name": "stdout",
          "text": [
            "16/16 [==============================] - 1s 41ms/step\n",
            "              precision    recall  f1-score   support\n",
            "\n",
            "       trash       0.74      0.87      0.80        78\n",
            "       metal       0.66      0.78      0.72       102\n",
            "       paper       0.61      0.77      0.68        90\n",
            "     plastic       0.86      0.69      0.77       118\n",
            "       glass       0.72      0.51      0.60        98\n",
            "   cardboard       0.56      0.45      0.50        20\n",
            "\n",
            "    accuracy                           0.71       506\n",
            "   macro avg       0.69      0.68      0.68       506\n",
            "weighted avg       0.72      0.71      0.70       506\n",
            "\n"
          ]
        }
      ]
    },
    {
      "cell_type": "markdown",
      "source": [
        "Acurácia: A acurácia é a medida de desempenho mais intuitiva. Ela é simplesmente a razão entre as observações corretamente previstas e o total de observações.\n",
        "\n",
        "Acurácia = (Verdadeiros Positivos + Verdadeiros Negativos) / Total de Observações\n",
        "\n",
        "No entanto, a acurácia não é uma boa escolha para distribuições de classes desbalanceadas. Em casos onde uma classe é muito mais comum que a outra, um modelo poderia prever a classe majoritária para todas as previsões e ainda assim ter uma alta acurácia.\n",
        "\n",
        "Precisão: A precisão é a razão entre as observações positivas corretamente previstas e o total de previsões positivas. Também é conhecida como Valor Preditivo Positivo.\n",
        "\n",
        "Precisão = Verdadeiros Positivos / (Verdadeiros Positivos + Falsos Positivos)\n",
        "\n",
        "Alta precisão está relacionada a uma baixa taxa de falsos positivos. Indica a porcentagem de suas previsões que estavam corretas. A precisão é uma boa medida para determinar quando os custos de um falso positivo são altos.\n",
        "\n",
        "Recall (Sensibilidade): O recall é a razão entre as observações positivas corretamente previstas e todas as observações na classe real - sim. Também é chamado de Sensibilidade, Taxa de Acerto, ou Taxa de Verdadeiros Positivos.\n",
        "\n",
        "Recall = Verdadeiros Positivos / (Verdadeiros Positivos + Falsos Negativos)\n",
        "\n",
        "O recall mede a capacidade de um modelo de encontrar todos os casos relevantes em um conjunto de dados. O recall seria a habilidade do modelo de encontrar todos os pontos de interesse em um conjunto de dados.\n",
        "\n",
        "F1-Score: O F1 Score é a média ponderada da Precisão e do Recall. Portanto, essa pontuação leva em consideração tanto os falsos positivos quanto os falsos negativos. É adequada para problemas com distribuição de classes desbalanceadas.\n",
        "\n",
        "F1 Score = 2*(Recall * Precisão) / (Recall + Precisão)\n",
        "\n",
        "O valor mais alto possível de um F1 Score é 1.0, indicando precisão e recall perfeitos, e o valor mais baixo possível é 0, se a precisão ou o recall for zero.\n",
        "\n",
        "Em resumo, você utilizaria precisão quando o custo de falsos positivos é alto, recall quando o custo de falsos negativos é alto, e F1 quando há necessidade de equilíbrio entre precisão e recall."
      ],
      "metadata": {
        "id": "pGKAo3eHowYe"
      }
    }
  ]
}